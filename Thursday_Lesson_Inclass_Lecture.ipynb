{
 "cells": [
  {
   "cell_type": "markdown",
   "metadata": {},
   "source": [
    "# Object-Oriented-Programming (OOP)"
   ]
  },
  {
   "cell_type": "markdown",
   "metadata": {},
   "source": [
    "## Tasks Today:\n",
    "\n",
    "   \n",
    "\n",
    "1) <b>Creating a Class (Initializing/Declaring)</b> <br>\n",
    "2) <b>Using a Class (Instantiating)</b> <br>\n",
    " &nbsp;&nbsp;&nbsp;&nbsp; a) Creating One Instance <br>\n",
    " &nbsp;&nbsp;&nbsp;&nbsp; b) Creating Multiple Instances <br>\n",
    " &nbsp;&nbsp;&nbsp;&nbsp; c) In-Class Exercise #1 - Create a Class 'Car' and instantiate three different makes of cars <br>\n",
    "3) <b>The \\__init\\__() Method</b> <br>\n",
    " &nbsp;&nbsp;&nbsp;&nbsp; a) The 'self' Attribute <br>\n",
    "4) <b>Class Attributes</b> <br>\n",
    " &nbsp;&nbsp;&nbsp;&nbsp; a) Initializing Attributes <br>\n",
    " &nbsp;&nbsp;&nbsp;&nbsp; b) Setting an Attribute Outside of the \\__init\\__() Method <br>\n",
    " &nbsp;&nbsp;&nbsp;&nbsp; c) Setting Defaults for Attributes <br>\n",
    " &nbsp;&nbsp;&nbsp;&nbsp; d) Accessing Class Attributes <br>\n",
    " &nbsp;&nbsp;&nbsp;&nbsp; e) Changing Class Attributes <br>\n",
    " &nbsp;&nbsp;&nbsp;&nbsp; f) In-Class Exercise #2 - Add a color and wheels attribute to your 'Car' class <br>\n",
    "5) <b>Class Methods</b> <br>\n",
    " &nbsp;&nbsp;&nbsp;&nbsp; a) Creating <br>\n",
    " &nbsp;&nbsp;&nbsp;&nbsp; b) Calling <br>\n",
    " &nbsp;&nbsp;&nbsp;&nbsp; c) Modifying an Attribute's Value Through a Method <br>\n",
    " &nbsp;&nbsp;&nbsp;&nbsp; d) Incrementing an Attribute's Value Through a Method <br>\n",
    " &nbsp;&nbsp;&nbsp;&nbsp; e) In-Class Exercise #3 - Add a method that prints the cars color and wheel number, then call them <br>\n",
    "6) <b>Inheritance</b> <br>\n",
    " &nbsp;&nbsp;&nbsp;&nbsp; a) Syntax for Inheriting from a Parent Class <br>\n",
    " &nbsp;&nbsp;&nbsp;&nbsp; b) The \\__init\\__() Method for a Child Class (super()) <br>\n",
    " &nbsp;&nbsp;&nbsp;&nbsp; c) Defining Attributes and Methods for the Child Class <br>\n",
    " &nbsp;&nbsp;&nbsp;&nbsp; d) Method Overriding <br>\n",
    " &nbsp;&nbsp;&nbsp;&nbsp; e) In-Class Exercise #4 - Create a class 'Ford' that inherits from 'Car' class and initialize it as a Blue Ford Explorer with 4 wheels using the super() method <br>\n",
    "7) <b>Classes as Attributes</b> <br>\n",
    "8) <b>Exercises</b> <br>\n",
    " &nbsp;&nbsp;&nbsp;&nbsp; a) Exercise #1 - Turn the shopping cart program from yesterday into an object-oriented program <br>"
   ]
  },
  {
   "cell_type": "code",
   "execution_count": null,
   "metadata": {},
   "outputs": [],
   "source": []
  },
  {
   "cell_type": "code",
   "execution_count": null,
   "metadata": {},
   "outputs": [],
   "source": [
    "# Circumfrance of a cirle\n"
   ]
  },
  {
   "cell_type": "markdown",
   "metadata": {},
   "source": [
    "## Creating a Class (Initializing/Declaring)\n",
    "<p>When creating a class, function, or even a variable you are initializing that object. Initializing and Declaring occur at the same time in Python, whereas in lower level languages you have to declare an object before initializing it. This is the first step in the process of using a class.</p>"
   ]
  },
  {
   "cell_type": "code",
   "execution_count": 2,
   "metadata": {},
   "outputs": [],
   "source": [
    "# class name should be capitalized, you know its a class when capitalized\n",
    "class Car():\n",
    "    wheels = 4\n",
    "    color = \"blue\""
   ]
  },
  {
   "cell_type": "markdown",
   "metadata": {},
   "source": [
    "## Using a Class (Instantiating)\n",
    "<p>The process of creating a class is called <i>Instantiating</i>. Each time you create a variable of that type of class, it is referred to as an <i>Instance</i> of that class. This is the second step in the process of using a class.</p>"
   ]
  },
  {
   "cell_type": "markdown",
   "metadata": {},
   "source": [
    "##### Creating One Instance"
   ]
  },
  {
   "cell_type": "code",
   "execution_count": 4,
   "metadata": {},
   "outputs": [
    {
     "name": "stdout",
     "output_type": "stream",
     "text": [
      "<class '__main__.Car'>\n",
      "<class 'int'>\n"
     ]
    }
   ],
   "source": [
    "ford = Car()\n",
    "print(type(ford))\n",
    "print(type(1))"
   ]
  },
  {
   "cell_type": "markdown",
   "metadata": {},
   "source": [
    "##### Creating Multiple Instances"
   ]
  },
  {
   "cell_type": "code",
   "execution_count": 7,
   "metadata": {},
   "outputs": [
    {
     "name": "stdout",
     "output_type": "stream",
     "text": [
      "blue\n",
      "6\n",
      "4\n"
     ]
    }
   ],
   "source": [
    "chevy = Car()\n",
    "honda = Car()\n",
    "porsche = Car()\n",
    "\n",
    "print(porsche.color)\n",
    "chevy.wheels = 6\n",
    "print(chevy.wheels) \n",
    "print(honda.wheels) "
   ]
  },
  {
   "cell_type": "markdown",
   "metadata": {},
   "source": [
    "##### In-Class Exercise #1 - Create a Class 'Car' and Instantiate three different makes of cars"
   ]
  },
  {
   "cell_type": "code",
   "execution_count": 9,
   "metadata": {},
   "outputs": [
    {
     "name": "stdout",
     "output_type": "stream",
     "text": [
      "red\n",
      "4\n",
      "{}\n",
      "<class 'dict'>\n"
     ]
    }
   ],
   "source": [
    "# donder = double underscore __\n",
    "class Car():\n",
    "    door = 2\n",
    "    color = 'red'\n",
    "    wheels = 4 \n",
    "    sun_roof = False\n",
    "\n",
    "infinity = Car()\n",
    "lexus = Car ()\n",
    "hummer = Car() \n",
    "\n",
    "print(infinity.color)\n",
    "print(infinity.wheels)\n",
    "print(infinity.__dict__) \n",
    "print(type(infinity.__dict__))\n"
   ]
  },
  {
   "cell_type": "markdown",
   "metadata": {},
   "source": [
    "## The \\__init\\__() Method <br>\n",
    "<p>This method is used in almost every created class, and called only once upon the creation of the class instance. This method will initialize all variables needed for the object.</p>"
   ]
  },
  {
   "cell_type": "code",
   "execution_count": 14,
   "metadata": {},
   "outputs": [
    {
     "name": "stdout",
     "output_type": "stream",
     "text": [
      "6\n",
      "4\n"
     ]
    }
   ],
   "source": [
    "# init (intialize)\n",
    "\n",
    "class Car():\n",
    "    # create the constructor AKA the __init__ method\n",
    "    def __init__(self, w, doors):\n",
    "        self.wheels = w \n",
    "        self.doors = doors\n",
    "acura = Car(4, 4)\n",
    "tesla = Car(4, 6)\n",
    "truck = Car(6, 2)\n",
    "\n",
    "print(truck.wheels)\n",
    "print(acura.wheels)"
   ]
  },
  {
   "cell_type": "markdown",
   "metadata": {},
   "source": [
    "##### The 'self' Attribute <br>\n",
    "<p>This attribute is required to keep track of specific instance's attributes. Without the self attribute, the program would not know how to reference or keep track of an instance's attributes.</p>"
   ]
  },
  {
   "cell_type": "code",
   "execution_count": null,
   "metadata": {},
   "outputs": [],
   "source": [
    "# see above"
   ]
  },
  {
   "cell_type": "markdown",
   "metadata": {},
   "source": [
    "## Class Attributes <br>\n",
    "<p>While variables are inside of a class, they are referred to as attributes and not variables. When someone says 'attribute' you know they're speaking about a class. Attributes can be initialized through the init method, or outside of it.</p>"
   ]
  },
  {
   "cell_type": "markdown",
   "metadata": {},
   "source": [
    "##### Initializing Attributes"
   ]
  },
  {
   "cell_type": "code",
   "execution_count": 29,
   "metadata": {},
   "outputs": [
    {
     "name": "stdout",
     "output_type": "stream",
     "text": [
      "Car\n",
      "Tonka\n",
      "{'small': True, 'brand': 'Tonka', 'weight': 110, 'for_kids': True, 'is_fun': True}\n",
      "{'small': True, 'brand': 'Hot Wheels', 'weight': 50, 'for_kids': False, 'is_fun': True}\n"
     ]
    }
   ],
   "source": [
    "# see above\n",
    "# always use init method, best practice \n",
    "\n",
    "class Toy():\n",
    "    kind = \"Car\" # this way of creating attribute is not very good \n",
    "\n",
    "    def __init__(self, small, brand, weight, for_kids = True):\n",
    "        self.small = small \n",
    "        self.brand = brand \n",
    "        self.weight = weight \n",
    "        self.for_kids = for_kids # Default Argument \n",
    "        self.is_fun = True # Default Attribute \n",
    "\n",
    "tonka_truck = Toy(True, \"Tonka\", 110) \n",
    "print(tonka_truck.kind)\n",
    "print(tonka_truck.brand)\n",
    "print(tonka_truck.__dict__) \n",
    "hot_wheels = Toy(True, \"Hot Wheels\", 50, False) \n",
    "print(hot_wheels.__dict__) "
   ]
  },
  {
   "cell_type": "markdown",
   "metadata": {},
   "source": [
    "##### Accessing Class Attributes"
   ]
  },
  {
   "cell_type": "code",
   "execution_count": null,
   "metadata": {
    "scrolled": true
   },
   "outputs": [],
   "source": [
    "# See Above"
   ]
  },
  {
   "cell_type": "markdown",
   "metadata": {},
   "source": [
    "##### Setting Defaults for Attributes"
   ]
  },
  {
   "cell_type": "code",
   "execution_count": null,
   "metadata": {},
   "outputs": [],
   "source": [
    "# see above "
   ]
  },
  {
   "cell_type": "markdown",
   "metadata": {},
   "source": [
    "##### Changing Class Attributes <br>\n",
    "<p>Keep in mind there are global class attributes and then there are attributes only available to each class instance which won't effect other classes.</p>"
   ]
  },
  {
   "cell_type": "code",
   "execution_count": 30,
   "metadata": {},
   "outputs": [
    {
     "name": "stdout",
     "output_type": "stream",
     "text": [
      "False\n",
      "True\n"
     ]
    }
   ],
   "source": [
    "print(hot_wheels.for_kids)\n",
    "hot_wheels.for_kids = True \n",
    "print(hot_wheels.for_kids) "
   ]
  },
  {
   "cell_type": "code",
   "execution_count": null,
   "metadata": {},
   "outputs": [],
   "source": []
  },
  {
   "cell_type": "markdown",
   "metadata": {},
   "source": [
    "##### In-Class Exercise #2 - Add a doors and seats attribute to your 'Car' class then print out two different instances with different doors and seats"
   ]
  },
  {
   "cell_type": "code",
   "execution_count": 35,
   "metadata": {},
   "outputs": [
    {
     "name": "stdout",
     "output_type": "stream",
     "text": [
      "4\n",
      "5\n"
     ]
    }
   ],
   "source": [
    "class Car():\n",
    "        def __init__(self, doors, seats):\n",
    "                self.doors = doors \n",
    "                self.seats = seats \n",
    "lexus = Car(4,5)\n",
    "infinity = Car(12, 5)\n",
    "\n",
    "print(lexus.doors)\n",
    "print(infinity.seats)\n",
    "      "
   ]
  },
  {
   "cell_type": "markdown",
   "metadata": {},
   "source": [
    "## Class Methods <br>\n",
    "<p>While inside of a class, functions are referred to as 'methods'. If you hear someone mention methods, they're speaking about classes. Methods are essentially functions, but only callable on the instances of a class.</p>"
   ]
  },
  {
   "cell_type": "markdown",
   "metadata": {},
   "source": [
    "##### Creating"
   ]
  },
  {
   "cell_type": "code",
   "execution_count": 36,
   "metadata": {},
   "outputs": [
    {
     "name": "stdout",
     "output_type": "stream",
     "text": [
      "True\n",
      "BARK!!\n",
      "meow!!\n"
     ]
    }
   ],
   "source": [
    "class Dog():\n",
    "    def __init__(self, name):\n",
    "        self.canine = True \n",
    "        self.name = name \n",
    "    \n",
    "    def talk(self):\n",
    "        print(\"BARK!!\") \n",
    "\n",
    "class Cat():\n",
    "    def __init__(self, name):\n",
    "        self.feline = True \n",
    "        self.name = name \n",
    "    \n",
    "    def talk(self):\n",
    "        print(\"meow!!\") \n",
    "dog1 = Dog(\"Ted\")\n",
    "dog2 = Dog(\"Coco\")\n",
    "cat1 = Cat(\"Tom\")\n",
    "\n",
    "print(dog1.canine)\n",
    "dog1.talk()\n",
    "cat1.talk()\n"
   ]
  },
  {
   "cell_type": "markdown",
   "metadata": {},
   "source": [
    "##### Calling"
   ]
  },
  {
   "cell_type": "code",
   "execution_count": 7,
   "metadata": {},
   "outputs": [
    {
     "name": "stdout",
     "output_type": "stream",
     "text": [
      "Shoha\n",
      "Shoha Tsuchida\n",
      "Shoha.Tsuchida@codingsummit.org\n",
      "Shoha.the goat@codingsummit.org\n",
      "200000\n",
      "210000\n"
     ]
    }
   ],
   "source": [
    "class Employee():\n",
    "    def __init__(self, first, last, salary):\n",
    "        self.first = first \n",
    "        self.last = last \n",
    "        self.salary = salary \n",
    "        self.email = first + '.' + last + \"@codingsummit.org\"\n",
    "        self.raise_amount = 1.05 \n",
    "    \n",
    "    def full_name(self):\n",
    "        return f'{self.first} {self.last}'\n",
    "\n",
    "    def change_last_name(self, new_last): \n",
    "        self.last = new_last\n",
    "        self.email = self.first + '.' + new_last + \"@codingsummit.org\"\n",
    "    def apply_raise(self):\n",
    "        self.salary = int(self.salary * self.raise_amount)  \n",
    "\n",
    "\n",
    "emp1 = Employee(\"Shoha\", \"Tsuchida\", 200000)\n",
    "print(emp1.first)\n",
    "print(emp1.full_name())\n",
    "print(emp1.email) \n",
    "emp1.change_last_name('the goat')\n",
    "print(emp1.email)\n",
    "print(emp1.salary)\n",
    "emp1.apply_raise()\n",
    "print(emp1.salary)\n",
    "\n",
    "\n",
    "\n",
    " "
   ]
  },
  {
   "cell_type": "markdown",
   "metadata": {},
   "source": [
    "##### Modifying an Attribute's Value Through a Method"
   ]
  },
  {
   "cell_type": "code",
   "execution_count": 10,
   "metadata": {},
   "outputs": [
    {
     "name": "stdout",
     "output_type": "stream",
     "text": [
      "Ivan\n",
      "Wayne\n"
     ]
    }
   ],
   "source": [
    "emp1.last = 'Ivan'\n",
    "print(emp1.first)  \n",
    "\n",
    "# known as a setter \n",
    "emp1.change_last_name('Wayne')\n",
    "print(emp1.last)"
   ]
  },
  {
   "cell_type": "markdown",
   "metadata": {},
   "source": [
    "##### Incrementing an Attribute's Value Through a Method"
   ]
  },
  {
   "cell_type": "code",
   "execution_count": 11,
   "metadata": {},
   "outputs": [
    {
     "name": "stdout",
     "output_type": "stream",
     "text": [
      "210000\n",
      "220500\n",
      "231525\n",
      "243101\n"
     ]
    }
   ],
   "source": [
    "print(emp1.salary)\n",
    "emp1.apply_raise()\n",
    "print(emp1.salary)\n",
    "emp1.apply_raise()\n",
    "print(emp1.salary)\n",
    "emp1.apply_raise()\n",
    "print(emp1.salary)"
   ]
  },
  {
   "cell_type": "markdown",
   "metadata": {},
   "source": [
    "##### In-Class Exercise #3 - Add a method that takes in three parameters of year, doors and seats and prints out a formatted print statement with make, model, year, seats, and doors"
   ]
  },
  {
   "cell_type": "code",
   "execution_count": 15,
   "metadata": {},
   "outputs": [
    {
     "name": "stdout",
     "output_type": "stream",
     "text": [
      "{'make': 'Suzuki', 'model': 'Grand Vitara'}\n",
      "This car is a (year) Suzuki Grand Vitara with 4 doors and 6 seats\n",
      "{'make': 'Suzuki', 'model': 'Grand Vitara', 'year': 1999, 'door': 4, 'seats': 6}\n"
     ]
    }
   ],
   "source": [
    "# Create class with 2 paramters inside of the __init__ which are make and model\n",
    "\n",
    "class Car():\n",
    "    def __init__(self, make, model): \n",
    "        self.make = make \n",
    "        self.model = model \n",
    "\n",
    "# Inside of the Car class create a method that has 4 parameter in total (self,year,door,seats)\n",
    "\n",
    "    def features (self, year, doors, seats):\n",
    "        self.year = year\n",
    "        self.door = doors \n",
    "        self.seats = seats \n",
    "        print(f\"This car is a (year) {self.make} {self.model} with {doors} doors and {seats} seats\")\n",
    "\n",
    "# Output: This car is from 2019 and is a Ford Expolorer and has 4 doors and 5 seats\n",
    "\n",
    "car1 = Car (\"Suzuki\", \"Grand Vitara\")\n",
    "print(car1.__dict__)\n",
    "car1.features(1999, 4, 6)\n",
    "print(car1.__dict__)"
   ]
  },
  {
   "cell_type": "markdown",
   "metadata": {},
   "source": [
    "## Inheritance <br>\n",
    "<p>You can create a child-parent relationship between two classes by using inheritance. What this allows you to do is have overriding methods, but also inherit traits from the parent class. Think of it as an actual parent and child, the child will inherit the parent's genes, as will the classes in OOP</p>"
   ]
  },
  {
   "cell_type": "markdown",
   "metadata": {},
   "source": [
    "##### Syntax for Inheriting from a Parent Class"
   ]
  },
  {
   "cell_type": "code",
   "execution_count": 7,
   "metadata": {},
   "outputs": [
    {
     "name": "stdout",
     "output_type": "stream",
     "text": [
      "BARk\n",
      "...\n",
      "Marco\n",
      "4\n",
      "====\n",
      "Meow\n",
      "...\n",
      "4\n"
     ]
    }
   ],
   "source": [
    "class Animal(): \n",
    "    def __init__(self, name, species):\n",
    "        self.name = name  \n",
    "        self.species = species \n",
    "        self.legs = 4 \n",
    "    def talk(self):\n",
    "        print('Animal Noise')\n",
    "    def breathe(self): \n",
    "            print ('...')\n",
    "class Cat(Animal): \n",
    "        # Constuctor (or init method) will override the inheritted class \n",
    "    def __init__(self,name, species, color):\n",
    "            # super() will execute the parent's (Animal) class's __init__method\n",
    "\n",
    "            super().__init__ (name, species) \n",
    "            self.color = color\n",
    "    def talk(self): \n",
    "            print('Meow')\n",
    "dog1 = Dog(\"Marco\", 'German Shephard', 'Brown')\n",
    "cat1 = Cat('Garfield', \"Tabby Cat\", \"Orange\")\n",
    "\n",
    "dog1.talk()\n",
    "dog1.breathe()\n",
    "print(dog1.name)\n",
    "print(dog1.legs)\n",
    "print('====')\n",
    "cat1.talk()\n",
    "cat1.breathe()\n",
    "print(cat1.legs) \n",
    "\n"
   ]
  },
  {
   "cell_type": "markdown",
   "metadata": {},
   "source": [
    "##### The \\__init\\__() Method for a Child Class - super()"
   ]
  },
  {
   "cell_type": "code",
   "execution_count": null,
   "metadata": {
    "scrolled": true
   },
   "outputs": [],
   "source": [
    "# See above "
   ]
  },
  {
   "cell_type": "markdown",
   "metadata": {},
   "source": [
    "##### Defining Attributes and Methods for the Child Class"
   ]
  },
  {
   "cell_type": "code",
   "execution_count": null,
   "metadata": {},
   "outputs": [],
   "source": [
    "# See Above"
   ]
  },
  {
   "cell_type": "markdown",
   "metadata": {},
   "source": [
    "##### Method Overriding"
   ]
  },
  {
   "cell_type": "code",
   "execution_count": null,
   "metadata": {},
   "outputs": [],
   "source": [
    "# See Above"
   ]
  },
  {
   "cell_type": "markdown",
   "metadata": {},
   "source": [
    "## Classes as Attributes <br>\n",
    "<p>Classes can also be used as attributes within another class. This is useful in situations where you need to keep variables locally stored, instead of globally stored.</p>"
   ]
  },
  {
   "cell_type": "code",
   "execution_count": 8,
   "metadata": {},
   "outputs": [
    {
     "name": "stdout",
     "output_type": "stream",
     "text": [
      "{'year': 2022, 'make': 'Tesla', 'model': 'CyberTruck', 'battery': <__main__.Battery object at 0x000001716597CCA0>}\n",
      "CyberTruck\n",
      "10\n",
      "10\n"
     ]
    }
   ],
   "source": [
    "class Battery():\n",
    "     def __init__(self, cells):\n",
    "         self.cells = cells \n",
    "         self.volts = 7.8 \n",
    "     def addCells(self):\n",
    "        self.cell = self.cells + 5  \n",
    "class Car():\n",
    "    def __init__(self, year, make, model, battery): \n",
    "        self.year = year \n",
    "        self.make = make \n",
    "        self.model = model \n",
    "        self.battery = battery \n",
    "b1 = Battery(10) \n",
    "\n",
    "tesla = Car(2022, \"Tesla\", \"CyberTruck\", b1)\n",
    "\n",
    "print(tesla.__dict__)\n",
    "print(tesla.model)\n",
    "print(tesla.battery.cells)\n",
    "tesla.battery.addCells()\n",
    "print(tesla.battery.cells)\n"
   ]
  },
  {
   "cell_type": "markdown",
   "metadata": {},
   "source": [
    "# Exercises"
   ]
  },
  {
   "cell_type": "markdown",
   "metadata": {},
   "source": [
    "### Exercise 1 - Turn the shopping cart program from yesterday into an object-oriented program"
   ]
  },
  {
   "cell_type": "code",
   "execution_count": 5,
   "metadata": {},
   "outputs": [
    {
     "name": "stdout",
     "output_type": "stream",
     "text": [
      "Invalid response.. Please type Add / Show / Deete / or Quit\n",
      "Invalid response.. Please type Add / Show / Deete / or Quit\n",
      "{'protein ': 1, 'pineapple': 1, 'mangoes': 1, 'oatmilk': 1}\n",
      "{'cereal ': 1, 'eggs': 1}\n",
      "{}\n"
     ]
    }
   ],
   "source": [
    "# Create a class called cart that retains items and has methods to add, remove, and show\n",
    "\n",
    "class Cart():\n",
    "    def __init__(self):\n",
    "        self.cart = {}\n",
    "\n",
    "    def askUser(self):\n",
    "        answer = input (\"Do you want to : Show/add/Delete? or Quit\")\n",
    "        return answer \n",
    "    def showCart(self):\n",
    "        print(self.cart) \n",
    "    def addToCart(self):\n",
    "            item = input(\"What Item do you want to add\").lower()\n",
    "            if item in self.cart:\n",
    "                self.cart[item] = self.cart[item] + 1 \n",
    "            else: \n",
    "               self.cart[item] = 1 \n",
    "    def removeFromCart(self):\n",
    "        item = input(\"What item do you want to remove?\").lower()\n",
    "        if item in self.cart:\n",
    "            self.cart[item] = self.cart[item] - 1 \n",
    "            del self.cart[item]\n",
    "        else: \n",
    "            print(\"You do not have that item in your cart!\")\n",
    "    def goShopping(self):\n",
    "        while True: \n",
    "            ans = self.askUser()\n",
    "            if ans == \"add\":\n",
    "                self.addToCart()\n",
    "            elif ans == \"show\":\n",
    "                self.showCart()\n",
    "            elif ans == \"del\":\n",
    "                self.removeFromCart()\n",
    "            elif ans == \"quit\": \n",
    "                break \n",
    "            else: \n",
    "                print(\"Invalid response.. Please type Add / Show / Deete / or Quit\")\n",
    "\n",
    "\n",
    "shoha = Cart()\n",
    "kaile = Cart()\n",
    "christian = Cart()\n",
    "\n",
    "kaile.goShopping()\n",
    "christian.goShopping()\n",
    "print(kaile.cart)\n",
    "print(christian.cart)\n",
    "print(shoha.cart)"
   ]
  },
  {
   "cell_type": "markdown",
   "metadata": {},
   "source": [
    "### Exercise 2 - Write a Python class which has two methods get_String and print_String. get_String accept a string from the user and print_String print the string in upper case"
   ]
  },
  {
   "cell_type": "code",
   "execution_count": 38,
   "metadata": {},
   "outputs": [
    {
     "name": "stdout",
     "output_type": "stream",
     "text": [
      "HI\n",
      "hi\n"
     ]
    }
   ],
   "source": [
    "class Instructor():\n",
    "    #get_string method - accept a string\n",
    "    def __init__(self):\n",
    "        self.instructor = {}\n",
    "    def get_string(self, inputString):\n",
    "        self.input = inputString\n",
    "    \n",
    "\n",
    "    # print_String method - print string in upper case\n",
    "    def print_Uppercase (self):\n",
    "        print(self.input.upper())\n",
    "\n",
    "\n",
    "x = Instructor()\n",
    "x.get_string(\"hi\")\n",
    "x.print_Uppercase()\n",
    "print(x.input)"
   ]
  }
 ],
 "metadata": {
  "kernelspec": {
   "display_name": "Python 3",
   "language": "python",
   "name": "python3"
  },
  "language_info": {
   "codemirror_mode": {
    "name": "ipython",
    "version": 3
   },
   "file_extension": ".py",
   "mimetype": "text/x-python",
   "name": "python",
   "nbconvert_exporter": "python",
   "pygments_lexer": "ipython3",
   "version": "3.10.1"
  }
 },
 "nbformat": 4,
 "nbformat_minor": 2
}
